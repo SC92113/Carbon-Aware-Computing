{
 "cells": [
  {
   "cell_type": "markdown",
   "id": "7a12b0f0",
   "metadata": {},
   "source": [
    "# Lesson 3: Training Models in Low Carbon Regions"
   ]
  },
  {
   "cell_type": "markdown",
   "id": "1de50c3f",
   "metadata": {},
   "source": [
    "* Import libraries to train a model locally."
   ]
  },
  {
   "cell_type": "code",
   "execution_count": 81,
   "id": "8b567f06-6dc3-429c-823a-c68f14a1171c",
   "metadata": {
    "height": 98
   },
   "outputs": [],
   "source": [
    "import numpy as np\n",
    "from sklearn.datasets import make_blobs\n",
    "import tensorflow as tf\n",
    "from tensorflow.keras.models import Sequential\n",
    "from tensorflow.keras.layers import Dense"
   ]
  },
  {
   "cell_type": "markdown",
   "id": "4a3fce95",
   "metadata": {},
   "source": [
    "* Create a dataset.\n",
    "\n",
    "This is an example from the [Advanced Learning Algorithms](https://www.coursera.org/learn/advanced-learning-algorithms) course."
   ]
  },
  {
   "cell_type": "code",
   "execution_count": 82,
   "id": "47b67bc4-f6fb-410c-a9da-735c37685ee1",
   "metadata": {
    "height": 166
   },
   "outputs": [],
   "source": [
    "classes = 4\n",
    "m = 100\n",
    "centers = [[-5, 2], [-2, -2], [1, 2], [5, -2]]\n",
    "std = 1.0\n",
    "X_train, y_train = make_blobs(\n",
    "    n_samples=m, \n",
    "    centers=centers, \n",
    "    cluster_std=std,\n",
    "    random_state=30)"
   ]
  },
  {
   "cell_type": "markdown",
   "id": "4fcb41a9",
   "metadata": {},
   "source": [
    "* Create the model."
   ]
  },
  {
   "cell_type": "code",
   "execution_count": 83,
   "id": "43a4297a-cc98-47b7-95d4-703caecdccb7",
   "metadata": {
    "height": 132
   },
   "outputs": [],
   "source": [
    "# Create the model\n",
    "model = Sequential(\n",
    "    [\n",
    "        Dense(2, activation = 'relu',   name = \"L1\"),\n",
    "        Dense(4, activation = 'linear', name = \"L2\")\n",
    "    ]\n",
    ")"
   ]
  },
  {
   "cell_type": "code",
   "execution_count": 84,
   "id": "bdcb0dae-f2a5-440e-9699-64ed4e80e055",
   "metadata": {
    "height": 98
   },
   "outputs": [],
   "source": [
    "model.compile(\n",
    "    loss=tf.keras.losses.SparseCategoricalCrossentropy(\n",
    "        from_logits=True),\n",
    "    optimizer=tf.keras.optimizers.Adam(0.01),\n",
    ")"
   ]
  },
  {
   "cell_type": "markdown",
   "id": "065a4823",
   "metadata": {},
   "source": [
    "* Train the model."
   ]
  },
  {
   "cell_type": "code",
   "execution_count": 69,
   "id": "7ef0d574-3899-4808-88c1-de3e551528c8",
   "metadata": {
    "height": 81
   },
   "outputs": [
    {
     "name": "stdout",
     "output_type": "stream",
     "text": [
      "Epoch 1/200\n",
      "4/4 [==============================] - 0s 2ms/step - loss: 1.6501\n",
      "Epoch 2/200\n",
      "4/4 [==============================] - 0s 1ms/step - loss: 1.4961\n",
      "Epoch 3/200\n",
      "4/4 [==============================] - 0s 1ms/step - loss: 1.3781\n",
      "Epoch 4/200\n",
      "4/4 [==============================] - 0s 1ms/step - loss: 1.2871\n",
      "Epoch 5/200\n",
      "4/4 [==============================] - 0s 1ms/step - loss: 1.2286\n",
      "Epoch 6/200\n",
      "4/4 [==============================] - 0s 1ms/step - loss: 1.1793\n",
      "Epoch 7/200\n",
      "4/4 [==============================] - 0s 1ms/step - loss: 1.1408\n",
      "Epoch 8/200\n",
      "4/4 [==============================] - 0s 1ms/step - loss: 1.1069\n",
      "Epoch 9/200\n",
      "4/4 [==============================] - 0s 1ms/step - loss: 1.0763\n",
      "Epoch 10/200\n",
      "4/4 [==============================] - 0s 1ms/step - loss: 1.0474\n",
      "Epoch 11/200\n",
      "4/4 [==============================] - 0s 1ms/step - loss: 1.0222\n",
      "Epoch 12/200\n",
      "4/4 [==============================] - 0s 1ms/step - loss: 0.9973\n",
      "Epoch 13/200\n",
      "4/4 [==============================] - 0s 1ms/step - loss: 0.9713\n",
      "Epoch 14/200\n",
      "4/4 [==============================] - 0s 1ms/step - loss: 0.9449\n",
      "Epoch 15/200\n",
      "4/4 [==============================] - 0s 1ms/step - loss: 0.9171\n",
      "Epoch 16/200\n",
      "4/4 [==============================] - 0s 1ms/step - loss: 0.8875\n",
      "Epoch 17/200\n",
      "4/4 [==============================] - 0s 1ms/step - loss: 0.8593\n",
      "Epoch 18/200\n",
      "4/4 [==============================] - 0s 1ms/step - loss: 0.8318\n",
      "Epoch 19/200\n",
      "4/4 [==============================] - 0s 1ms/step - loss: 0.8045\n",
      "Epoch 20/200\n",
      "4/4 [==============================] - 0s 1ms/step - loss: 0.7793\n",
      "Epoch 21/200\n",
      "4/4 [==============================] - 0s 1ms/step - loss: 0.7535\n",
      "Epoch 22/200\n",
      "4/4 [==============================] - 0s 1ms/step - loss: 0.7325\n",
      "Epoch 23/200\n",
      "4/4 [==============================] - 0s 1ms/step - loss: 0.7120\n",
      "Epoch 24/200\n",
      "4/4 [==============================] - 0s 1ms/step - loss: 0.6941\n",
      "Epoch 25/200\n",
      "4/4 [==============================] - 0s 1ms/step - loss: 0.6784\n",
      "Epoch 26/200\n",
      "4/4 [==============================] - 0s 1ms/step - loss: 0.6642\n",
      "Epoch 27/200\n",
      "4/4 [==============================] - 0s 1ms/step - loss: 0.6489\n",
      "Epoch 28/200\n",
      "4/4 [==============================] - 0s 1ms/step - loss: 0.6349\n",
      "Epoch 29/200\n",
      "4/4 [==============================] - 0s 1ms/step - loss: 0.6227\n",
      "Epoch 30/200\n",
      "4/4 [==============================] - 0s 1ms/step - loss: 0.6097\n",
      "Epoch 31/200\n",
      "4/4 [==============================] - 0s 1ms/step - loss: 0.5972\n",
      "Epoch 32/200\n",
      "4/4 [==============================] - 0s 1ms/step - loss: 0.5854\n",
      "Epoch 33/200\n",
      "4/4 [==============================] - 0s 1ms/step - loss: 0.5710\n",
      "Epoch 34/200\n",
      "4/4 [==============================] - 0s 1ms/step - loss: 0.5594\n",
      "Epoch 35/200\n",
      "4/4 [==============================] - 0s 1ms/step - loss: 0.5489\n",
      "Epoch 36/200\n",
      "4/4 [==============================] - 0s 1ms/step - loss: 0.5395\n",
      "Epoch 37/200\n",
      "4/4 [==============================] - 0s 1ms/step - loss: 0.5289\n",
      "Epoch 38/200\n",
      "4/4 [==============================] - 0s 1ms/step - loss: 0.5180\n",
      "Epoch 39/200\n",
      "4/4 [==============================] - 0s 1ms/step - loss: 0.5036\n",
      "Epoch 40/200\n",
      "4/4 [==============================] - 0s 1ms/step - loss: 0.4894\n",
      "Epoch 41/200\n",
      "4/4 [==============================] - 0s 1ms/step - loss: 0.4805\n",
      "Epoch 42/200\n",
      "4/4 [==============================] - 0s 1ms/step - loss: 0.4715\n",
      "Epoch 43/200\n",
      "4/4 [==============================] - 0s 1ms/step - loss: 0.4631\n",
      "Epoch 44/200\n",
      "4/4 [==============================] - 0s 1ms/step - loss: 0.4558\n",
      "Epoch 45/200\n",
      "4/4 [==============================] - 0s 1ms/step - loss: 0.4484\n",
      "Epoch 46/200\n",
      "4/4 [==============================] - 0s 1ms/step - loss: 0.4410\n",
      "Epoch 47/200\n",
      "4/4 [==============================] - 0s 1ms/step - loss: 0.4330\n",
      "Epoch 48/200\n",
      "4/4 [==============================] - 0s 1ms/step - loss: 0.4261\n",
      "Epoch 49/200\n",
      "4/4 [==============================] - 0s 1ms/step - loss: 0.4204\n",
      "Epoch 50/200\n",
      "4/4 [==============================] - 0s 1ms/step - loss: 0.4141\n",
      "Epoch 51/200\n",
      "4/4 [==============================] - 0s 1ms/step - loss: 0.4089\n",
      "Epoch 52/200\n",
      "4/4 [==============================] - 0s 1ms/step - loss: 0.4025\n",
      "Epoch 53/200\n",
      "4/4 [==============================] - 0s 1ms/step - loss: 0.3968\n",
      "Epoch 54/200\n",
      "4/4 [==============================] - 0s 1ms/step - loss: 0.3916\n",
      "Epoch 55/200\n",
      "4/4 [==============================] - 0s 1ms/step - loss: 0.3858\n",
      "Epoch 56/200\n",
      "4/4 [==============================] - 0s 1ms/step - loss: 0.3865\n",
      "Epoch 57/200\n",
      "4/4 [==============================] - 0s 1ms/step - loss: 0.3794\n",
      "Epoch 58/200\n",
      "4/4 [==============================] - 0s 1ms/step - loss: 0.3736\n",
      "Epoch 59/200\n",
      "4/4 [==============================] - 0s 1ms/step - loss: 0.3671\n",
      "Epoch 60/200\n",
      "4/4 [==============================] - 0s 1ms/step - loss: 0.3627\n",
      "Epoch 61/200\n",
      "4/4 [==============================] - 0s 1ms/step - loss: 0.3600\n",
      "Epoch 62/200\n",
      "4/4 [==============================] - 0s 1ms/step - loss: 0.3557\n",
      "Epoch 63/200\n",
      "4/4 [==============================] - 0s 1ms/step - loss: 0.3521\n",
      "Epoch 64/200\n",
      "4/4 [==============================] - 0s 1ms/step - loss: 0.3472\n",
      "Epoch 65/200\n",
      "4/4 [==============================] - 0s 1ms/step - loss: 0.3428\n",
      "Epoch 66/200\n",
      "4/4 [==============================] - 0s 1ms/step - loss: 0.3395\n",
      "Epoch 67/200\n",
      "4/4 [==============================] - 0s 1ms/step - loss: 0.3367\n",
      "Epoch 68/200\n",
      "4/4 [==============================] - 0s 1ms/step - loss: 0.3330\n",
      "Epoch 69/200\n",
      "4/4 [==============================] - 0s 1ms/step - loss: 0.3293\n",
      "Epoch 70/200\n",
      "4/4 [==============================] - 0s 1ms/step - loss: 0.3281\n",
      "Epoch 71/200\n",
      "4/4 [==============================] - 0s 1ms/step - loss: 0.3238\n",
      "Epoch 72/200\n",
      "4/4 [==============================] - 0s 1ms/step - loss: 0.3206\n",
      "Epoch 73/200\n",
      "4/4 [==============================] - 0s 1ms/step - loss: 0.3174\n",
      "Epoch 74/200\n",
      "4/4 [==============================] - 0s 1ms/step - loss: 0.3156\n",
      "Epoch 75/200\n",
      "4/4 [==============================] - 0s 1ms/step - loss: 0.3128\n",
      "Epoch 76/200\n",
      "4/4 [==============================] - 0s 1ms/step - loss: 0.3104\n",
      "Epoch 77/200\n",
      "4/4 [==============================] - 0s 1ms/step - loss: 0.3085\n",
      "Epoch 78/200\n",
      "4/4 [==============================] - 0s 1ms/step - loss: 0.3071\n",
      "Epoch 79/200\n",
      "4/4 [==============================] - 0s 1ms/step - loss: 0.3050\n",
      "Epoch 80/200\n",
      "4/4 [==============================] - 0s 1ms/step - loss: 0.3021\n",
      "Epoch 81/200\n",
      "4/4 [==============================] - 0s 1ms/step - loss: 0.2987\n",
      "Epoch 82/200\n",
      "4/4 [==============================] - 0s 1ms/step - loss: 0.2963\n",
      "Epoch 83/200\n",
      "4/4 [==============================] - 0s 1ms/step - loss: 0.2940\n",
      "Epoch 84/200\n",
      "4/4 [==============================] - 0s 1ms/step - loss: 0.2920\n",
      "Epoch 85/200\n",
      "4/4 [==============================] - 0s 1ms/step - loss: 0.2893\n",
      "Epoch 86/200\n",
      "4/4 [==============================] - 0s 1ms/step - loss: 0.2877\n",
      "Epoch 87/200\n",
      "4/4 [==============================] - 0s 1ms/step - loss: 0.2865\n",
      "Epoch 88/200\n",
      "4/4 [==============================] - 0s 1ms/step - loss: 0.2839\n",
      "Epoch 89/200\n",
      "4/4 [==============================] - 0s 1ms/step - loss: 0.2816\n",
      "Epoch 90/200\n",
      "4/4 [==============================] - 0s 1ms/step - loss: 0.2792\n",
      "Epoch 91/200\n",
      "4/4 [==============================] - 0s 1ms/step - loss: 0.2772\n",
      "Epoch 92/200\n",
      "4/4 [==============================] - 0s 1ms/step - loss: 0.2769\n",
      "Epoch 93/200\n",
      "4/4 [==============================] - 0s 1ms/step - loss: 0.2751\n",
      "Epoch 94/200\n",
      "4/4 [==============================] - 0s 1ms/step - loss: 0.2720\n",
      "Epoch 95/200\n",
      "4/4 [==============================] - 0s 1ms/step - loss: 0.2686\n",
      "Epoch 96/200\n",
      "4/4 [==============================] - 0s 1ms/step - loss: 0.2663\n",
      "Epoch 97/200\n",
      "4/4 [==============================] - 0s 1ms/step - loss: 0.2652\n",
      "Epoch 98/200\n",
      "4/4 [==============================] - 0s 1ms/step - loss: 0.2640\n",
      "Epoch 99/200\n",
      "4/4 [==============================] - 0s 1ms/step - loss: 0.2603\n",
      "Epoch 100/200\n",
      "4/4 [==============================] - 0s 1ms/step - loss: 0.2587\n",
      "Epoch 101/200\n",
      "4/4 [==============================] - 0s 1ms/step - loss: 0.2561\n",
      "Epoch 102/200\n",
      "4/4 [==============================] - 0s 1ms/step - loss: 0.2559\n",
      "Epoch 103/200\n",
      "4/4 [==============================] - 0s 1ms/step - loss: 0.2538\n",
      "Epoch 104/200\n",
      "4/4 [==============================] - 0s 1ms/step - loss: 0.2525\n",
      "Epoch 105/200\n",
      "4/4 [==============================] - 0s 1ms/step - loss: 0.2509\n",
      "Epoch 106/200\n",
      "4/4 [==============================] - 0s 1ms/step - loss: 0.2480\n",
      "Epoch 107/200\n",
      "4/4 [==============================] - 0s 1ms/step - loss: 0.2456\n",
      "Epoch 108/200\n",
      "4/4 [==============================] - 0s 1ms/step - loss: 0.2432\n",
      "Epoch 109/200\n",
      "4/4 [==============================] - 0s 1ms/step - loss: 0.2407\n",
      "Epoch 110/200\n",
      "4/4 [==============================] - 0s 1ms/step - loss: 0.2388\n",
      "Epoch 111/200\n",
      "4/4 [==============================] - 0s 1ms/step - loss: 0.2365\n",
      "Epoch 112/200\n",
      "4/4 [==============================] - 0s 1ms/step - loss: 0.2341\n",
      "Epoch 113/200\n",
      "4/4 [==============================] - 0s 1ms/step - loss: 0.2323\n",
      "Epoch 114/200\n",
      "4/4 [==============================] - 0s 1ms/step - loss: 0.2326\n",
      "Epoch 115/200\n",
      "4/4 [==============================] - 0s 1ms/step - loss: 0.2315\n",
      "Epoch 116/200\n",
      "4/4 [==============================] - 0s 1ms/step - loss: 0.2299\n",
      "Epoch 117/200\n",
      "4/4 [==============================] - 0s 1ms/step - loss: 0.2269\n",
      "Epoch 118/200\n",
      "4/4 [==============================] - 0s 1ms/step - loss: 0.2235\n",
      "Epoch 119/200\n",
      "4/4 [==============================] - 0s 1ms/step - loss: 0.2198\n",
      "Epoch 120/200\n",
      "4/4 [==============================] - 0s 1ms/step - loss: 0.2157\n",
      "Epoch 121/200\n",
      "4/4 [==============================] - 0s 1ms/step - loss: 0.2122\n",
      "Epoch 122/200\n",
      "4/4 [==============================] - 0s 1ms/step - loss: 0.2083\n",
      "Epoch 123/200\n",
      "4/4 [==============================] - 0s 1ms/step - loss: 0.2053\n",
      "Epoch 124/200\n",
      "4/4 [==============================] - 0s 1ms/step - loss: 0.2021\n",
      "Epoch 125/200\n",
      "4/4 [==============================] - 0s 1ms/step - loss: 0.2009\n",
      "Epoch 126/200\n",
      "4/4 [==============================] - 0s 1ms/step - loss: 0.1967\n",
      "Epoch 127/200\n",
      "4/4 [==============================] - 0s 1ms/step - loss: 0.1941\n",
      "Epoch 128/200\n",
      "4/4 [==============================] - 0s 1ms/step - loss: 0.1906\n",
      "Epoch 129/200\n",
      "4/4 [==============================] - 0s 1ms/step - loss: 0.1879\n",
      "Epoch 130/200\n",
      "4/4 [==============================] - 0s 1ms/step - loss: 0.1857\n",
      "Epoch 131/200\n",
      "4/4 [==============================] - 0s 1ms/step - loss: 0.1829\n",
      "Epoch 132/200\n",
      "4/4 [==============================] - 0s 1ms/step - loss: 0.1821\n",
      "Epoch 133/200\n",
      "4/4 [==============================] - 0s 1ms/step - loss: 0.1802\n",
      "Epoch 134/200\n",
      "4/4 [==============================] - 0s 1ms/step - loss: 0.1778\n",
      "Epoch 135/200\n",
      "4/4 [==============================] - 0s 1ms/step - loss: 0.1734\n",
      "Epoch 136/200\n",
      "4/4 [==============================] - 0s 1ms/step - loss: 0.1688\n",
      "Epoch 137/200\n",
      "4/4 [==============================] - 0s 1ms/step - loss: 0.1654\n",
      "Epoch 138/200\n",
      "4/4 [==============================] - 0s 1ms/step - loss: 0.1605\n",
      "Epoch 139/200\n",
      "4/4 [==============================] - 0s 1ms/step - loss: 0.1562\n",
      "Epoch 140/200\n",
      "4/4 [==============================] - 0s 1ms/step - loss: 0.1525\n",
      "Epoch 141/200\n",
      "4/4 [==============================] - 0s 1ms/step - loss: 0.1483\n",
      "Epoch 142/200\n",
      "4/4 [==============================] - 0s 1ms/step - loss: 0.1448\n",
      "Epoch 143/200\n",
      "4/4 [==============================] - 0s 1ms/step - loss: 0.1411\n",
      "Epoch 144/200\n",
      "4/4 [==============================] - 0s 1ms/step - loss: 0.1386\n",
      "Epoch 145/200\n",
      "4/4 [==============================] - 0s 1ms/step - loss: 0.1356\n",
      "Epoch 146/200\n",
      "4/4 [==============================] - 0s 1ms/step - loss: 0.1317\n",
      "Epoch 147/200\n",
      "4/4 [==============================] - 0s 1ms/step - loss: 0.1282\n",
      "Epoch 148/200\n",
      "4/4 [==============================] - 0s 1ms/step - loss: 0.1243\n",
      "Epoch 149/200\n",
      "4/4 [==============================] - 0s 1ms/step - loss: 0.1197\n",
      "Epoch 150/200\n",
      "4/4 [==============================] - 0s 1ms/step - loss: 0.1164\n",
      "Epoch 151/200\n",
      "4/4 [==============================] - 0s 1ms/step - loss: 0.1126\n",
      "Epoch 152/200\n",
      "4/4 [==============================] - 0s 1ms/step - loss: 0.1082\n",
      "Epoch 153/200\n",
      "4/4 [==============================] - 0s 1ms/step - loss: 0.1044\n",
      "Epoch 154/200\n",
      "4/4 [==============================] - 0s 1ms/step - loss: 0.0998\n",
      "Epoch 155/200\n",
      "4/4 [==============================] - 0s 1ms/step - loss: 0.0950\n",
      "Epoch 156/200\n",
      "4/4 [==============================] - 0s 1ms/step - loss: 0.0908\n",
      "Epoch 157/200\n",
      "4/4 [==============================] - 0s 1ms/step - loss: 0.0868\n",
      "Epoch 158/200\n",
      "4/4 [==============================] - 0s 1ms/step - loss: 0.0829\n",
      "Epoch 159/200\n",
      "4/4 [==============================] - 0s 1ms/step - loss: 0.0802\n",
      "Epoch 160/200\n",
      "4/4 [==============================] - 0s 1ms/step - loss: 0.0773\n",
      "Epoch 161/200\n",
      "4/4 [==============================] - 0s 1ms/step - loss: 0.0748\n",
      "Epoch 162/200\n",
      "4/4 [==============================] - 0s 1ms/step - loss: 0.0726\n",
      "Epoch 163/200\n",
      "4/4 [==============================] - 0s 1ms/step - loss: 0.0704\n",
      "Epoch 164/200\n",
      "4/4 [==============================] - 0s 1ms/step - loss: 0.0681\n",
      "Epoch 165/200\n",
      "4/4 [==============================] - 0s 1ms/step - loss: 0.0661\n",
      "Epoch 166/200\n",
      "4/4 [==============================] - 0s 1ms/step - loss: 0.0641\n",
      "Epoch 167/200\n",
      "4/4 [==============================] - 0s 1ms/step - loss: 0.0624\n",
      "Epoch 168/200\n",
      "4/4 [==============================] - 0s 1ms/step - loss: 0.0605\n",
      "Epoch 169/200\n",
      "4/4 [==============================] - 0s 1ms/step - loss: 0.0590\n",
      "Epoch 170/200\n",
      "4/4 [==============================] - 0s 1ms/step - loss: 0.0574\n",
      "Epoch 171/200\n",
      "4/4 [==============================] - 0s 1ms/step - loss: 0.0557\n",
      "Epoch 172/200\n",
      "4/4 [==============================] - 0s 1ms/step - loss: 0.0544\n",
      "Epoch 173/200\n",
      "4/4 [==============================] - 0s 1ms/step - loss: 0.0530\n",
      "Epoch 174/200\n",
      "4/4 [==============================] - 0s 1ms/step - loss: 0.0519\n",
      "Epoch 175/200\n",
      "4/4 [==============================] - 0s 1ms/step - loss: 0.0506\n",
      "Epoch 176/200\n",
      "4/4 [==============================] - 0s 1ms/step - loss: 0.0492\n",
      "Epoch 177/200\n",
      "4/4 [==============================] - 0s 1ms/step - loss: 0.0474\n",
      "Epoch 178/200\n",
      "4/4 [==============================] - 0s 1ms/step - loss: 0.0464\n",
      "Epoch 179/200\n",
      "4/4 [==============================] - 0s 1ms/step - loss: 0.0450\n",
      "Epoch 180/200\n",
      "4/4 [==============================] - 0s 1ms/step - loss: 0.0441\n",
      "Epoch 181/200\n",
      "4/4 [==============================] - 0s 1ms/step - loss: 0.0431\n",
      "Epoch 182/200\n",
      "4/4 [==============================] - 0s 1ms/step - loss: 0.0422\n",
      "Epoch 183/200\n",
      "4/4 [==============================] - 0s 1ms/step - loss: 0.0414\n",
      "Epoch 184/200\n",
      "4/4 [==============================] - 0s 1ms/step - loss: 0.0406\n",
      "Epoch 185/200\n",
      "4/4 [==============================] - 0s 1ms/step - loss: 0.0398\n",
      "Epoch 186/200\n",
      "4/4 [==============================] - 0s 1ms/step - loss: 0.0389\n",
      "Epoch 187/200\n",
      "4/4 [==============================] - 0s 1ms/step - loss: 0.0383\n",
      "Epoch 188/200\n",
      "4/4 [==============================] - 0s 1ms/step - loss: 0.0374\n",
      "Epoch 189/200\n",
      "4/4 [==============================] - 0s 1ms/step - loss: 0.0367\n",
      "Epoch 190/200\n",
      "4/4 [==============================] - 0s 1ms/step - loss: 0.0360\n",
      "Epoch 191/200\n",
      "4/4 [==============================] - 0s 1ms/step - loss: 0.0353\n",
      "Epoch 192/200\n",
      "4/4 [==============================] - 0s 1ms/step - loss: 0.0347\n",
      "Epoch 193/200\n",
      "4/4 [==============================] - 0s 1ms/step - loss: 0.0341\n",
      "Epoch 194/200\n",
      "4/4 [==============================] - 0s 1ms/step - loss: 0.0335\n",
      "Epoch 195/200\n",
      "4/4 [==============================] - 0s 1ms/step - loss: 0.0330\n",
      "Epoch 196/200\n",
      "4/4 [==============================] - 0s 1ms/step - loss: 0.0325\n",
      "Epoch 197/200\n",
      "4/4 [==============================] - 0s 1ms/step - loss: 0.0321\n",
      "Epoch 198/200\n",
      "4/4 [==============================] - 0s 1ms/step - loss: 0.0316\n",
      "Epoch 199/200\n",
      "4/4 [==============================] - 0s 1ms/step - loss: 0.0311\n",
      "Epoch 200/200\n",
      "4/4 [==============================] - 0s 1ms/step - loss: 0.0306\n"
     ]
    },
    {
     "data": {
      "text/plain": [
       "<keras.callbacks.History at 0x7ff21b539870>"
      ]
     },
     "execution_count": 69,
     "metadata": {},
     "output_type": "execute_result"
    }
   ],
   "source": [
    "model.fit(\n",
    "    X_train,y_train,\n",
    "    epochs=200\n",
    ")"
   ]
  },
  {
   "cell_type": "markdown",
   "id": "7916c263",
   "metadata": {},
   "source": [
    "### Running on Google Cloud\n",
    "\n",
    "We will use Google Cloud's ML platform, Vertex AI. To run this code on Vertex AI, we first need to:\n",
    "1. Import and initialize the Vertex AI Python SDK\n",
    "2. Write the ML training code to a file\n",
    "3. Configure and submit a training job that runs our training code."
   ]
  },
  {
   "cell_type": "markdown",
   "id": "ff5628f8",
   "metadata": {},
   "source": [
    "* Step 1. Initialize Vertex AI."
   ]
  },
  {
   "cell_type": "code",
   "execution_count": 85,
   "id": "6aa103e6-91f0-4506-b444-7af210ae0b05",
   "metadata": {
    "height": 47
   },
   "outputs": [],
   "source": [
    "from helper import authenticate\n",
    "CREDENTIALS, PROJECT_ID = authenticate()"
   ]
  },
  {
   "cell_type": "code",
   "execution_count": 86,
   "id": "165068fa-747a-4a43-aaae-24599ec361c3",
   "metadata": {
    "height": 30
   },
   "outputs": [],
   "source": [
    "from google.cloud import aiplatform"
   ]
  },
  {
   "cell_type": "code",
   "execution_count": 87,
   "id": "95d98265-e5e2-4adf-9ef3-b7ab5e4dd7f7",
   "metadata": {
    "height": 64
   },
   "outputs": [],
   "source": [
    "aiplatform.init(project=PROJECT_ID,\n",
    "                credentials=CREDENTIALS,\n",
    "                )"
   ]
  },
  {
   "cell_type": "markdown",
   "id": "2205640c",
   "metadata": {},
   "source": [
    "* Step 2. Write the ML training code to a file."
   ]
  },
  {
   "cell_type": "code",
   "execution_count": 88,
   "id": "e6c4ad22-f843-497a-8efe-03780857be08",
   "metadata": {
    "height": 676
   },
   "outputs": [
    {
     "name": "stdout",
     "output_type": "stream",
     "text": [
      "Overwriting task.py\n"
     ]
    }
   ],
   "source": [
    "%%writefile task.py\n",
    "\n",
    "# import libraries\n",
    "import numpy as np\n",
    "from sklearn.datasets import make_blobs\n",
    "import tensorflow as tf\n",
    "from tensorflow.keras.models import Sequential\n",
    "from tensorflow.keras.layers import Dense\n",
    "\n",
    "# Create dataset\n",
    "classes = 4\n",
    "m = 100\n",
    "centers = [[-5, 2], [-2, -2], [1, 2], [5, -2]]\n",
    "std = 1.0\n",
    "X_train, y_train = make_blobs(\n",
    "    n_samples=m, \n",
    "    centers=centers, \n",
    "    cluster_std=std,\n",
    "    random_state=30)\n",
    "\n",
    "# Create the model\n",
    "model = Sequential(\n",
    "    [\n",
    "        Dense(2, activation = 'relu',   name = \"L1\"),\n",
    "        Dense(4, activation = 'linear', name = \"L2\")\n",
    "    ]\n",
    ")\n",
    "\n",
    "model.compile(\n",
    "    loss=tf.keras.losses.SparseCategoricalCrossentropy(\n",
    "        from_logits=True),\n",
    "    optimizer=tf.keras.optimizers.Adam(0.01),\n",
    ")\n",
    "\n",
    "# Train\n",
    "model.fit(\n",
    "    X_train,y_train,\n",
    "    epochs=200\n",
    ")"
   ]
  },
  {
   "cell_type": "code",
   "execution_count": 77,
   "id": "616ceab3-02f3-49f5-88bd-b560a4a3908d",
   "metadata": {
    "height": 30
   },
   "outputs": [
    {
     "name": "stdout",
     "output_type": "stream",
     "text": [
      "\u001b[0m\u001b[01;32mL3_Training_Models.ipynb\u001b[0m*  \u001b[34;42m__pycache__\u001b[0m/  \u001b[01;32mhelper.py\u001b[0m*  \u001b[01;32mtask.py\u001b[0m*\r\n"
     ]
    }
   ],
   "source": [
    "ls"
   ]
  },
  {
   "cell_type": "code",
   "execution_count": 89,
   "id": "ff21b5e4-5439-4721-a28b-109fc7230cf7",
   "metadata": {
    "height": 30
   },
   "outputs": [
    {
     "name": "stdout",
     "output_type": "stream",
     "text": [
      "\r\n",
      "# import libraries\r\n",
      "import numpy as np\r\n",
      "from sklearn.datasets import make_blobs\r\n",
      "import tensorflow as tf\r\n",
      "from tensorflow.keras.models import Sequential\r\n",
      "from tensorflow.keras.layers import Dense\r\n",
      "\r\n",
      "# Create dataset\r\n",
      "classes = 4\r\n",
      "m = 100\r\n",
      "centers = [[-5, 2], [-2, -2], [1, 2], [5, -2]]\r\n",
      "std = 1.0\r\n",
      "X_train, y_train = make_blobs(\r\n",
      "    n_samples=m, \r\n",
      "    centers=centers, \r\n",
      "    cluster_std=std,\r\n",
      "    random_state=30)\r\n",
      "\r\n",
      "# Create the model\r\n",
      "model = Sequential(\r\n",
      "    [\r\n",
      "        Dense(2, activation = 'relu',   name = \"L1\"),\r\n",
      "        Dense(4, activation = 'linear', name = \"L2\")\r\n",
      "    ]\r\n",
      ")\r\n",
      "\r\n",
      "model.compile(\r\n",
      "    loss=tf.keras.losses.SparseCategoricalCrossentropy(\r\n",
      "        from_logits=True),\r\n",
      "    optimizer=tf.keras.optimizers.Adam(0.01),\r\n",
      ")\r\n",
      "\r\n",
      "# Train\r\n",
      "model.fit(\r\n",
      "    X_train,y_train,\r\n",
      "    epochs=200\r\n",
      ")\r\n"
     ]
    }
   ],
   "source": [
    "cat task.py"
   ]
  },
  {
   "cell_type": "markdown",
   "id": "b2bfa47c",
   "metadata": {},
   "source": [
    "* Define the Custom Trainin Job."
   ]
  },
  {
   "cell_type": "markdown",
   "id": "0fbb742d",
   "metadata": {},
   "source": [
    "> Note: Check here to find more information about [Prebuilt containers for custom training](https://cloud.google.com/vertex-ai/docs/training/pre-built-containers)\n",
    "\n",
    "> Note: Check here to find more information about [Carbon free energy for Google Cloud regions](https://cloud.google.com/sustainability/region-carbon)"
   ]
  },
  {
   "cell_type": "code",
   "execution_count": 90,
   "id": "06e502c7-eda6-4c10-978d-aa730731dbb7",
   "metadata": {
    "height": 47
   },
   "outputs": [],
   "source": [
    "# Choose a location (with carbon free energy available for this example)\n",
    "REGION = 'us-central1'"
   ]
  },
  {
   "cell_type": "markdown",
   "id": "86977ad6",
   "metadata": {},
   "source": [
    "* Create a store bucket."
   ]
  },
  {
   "cell_type": "code",
   "execution_count": 91,
   "id": "fa25f631-175d-4700-bc30-70db90cb6bcb",
   "metadata": {
    "height": 47
   },
   "outputs": [],
   "source": [
    "import random\n",
    "import string"
   ]
  },
  {
   "cell_type": "code",
   "execution_count": 92,
   "id": "58367b95-19e4-4e8b-a2c3-a1b0a256643e",
   "metadata": {
    "height": 132
   },
   "outputs": [],
   "source": [
    "def generate_uuid(length: int = 8) -> str:\n",
    "    return \"\".join(\n",
    "        random.choices(\n",
    "            string.ascii_lowercase + string.digits, \n",
    "            k=length))\n",
    "\n",
    "UUID = generate_uuid()"
   ]
  },
  {
   "cell_type": "code",
   "execution_count": 93,
   "id": "2380693a-7167-4855-b516-e2837b4b9a97",
   "metadata": {
    "height": 47
   },
   "outputs": [
    {
     "data": {
      "text/plain": [
       "'bqpwcsf9'"
      ]
     },
     "execution_count": 93,
     "metadata": {},
     "output_type": "execute_result"
    }
   ],
   "source": [
    "# The unique identifier\n",
    "UUID"
   ]
  },
  {
   "cell_type": "code",
   "execution_count": 94,
   "id": "489859f0-5299-43a2-a718-6637dc37b41a",
   "metadata": {
    "height": 30
   },
   "outputs": [],
   "source": [
    "from google.cloud import storage"
   ]
  },
  {
   "cell_type": "code",
   "execution_count": 95,
   "id": "986c8fd6-6558-408e-bd04-74b301842acb",
   "metadata": {
    "height": 47
   },
   "outputs": [],
   "source": [
    "storage_client = storage.Client(project = PROJECT_ID,\n",
    "                                credentials = CREDENTIALS)"
   ]
  },
  {
   "cell_type": "code",
   "execution_count": 96,
   "id": "cd33c614-ff8a-4acc-b8e1-5f7a530ab565",
   "metadata": {
    "height": 30
   },
   "outputs": [],
   "source": [
    "bucket_name = f'carbon-course-bucket-{UUID}'"
   ]
  },
  {
   "cell_type": "code",
   "execution_count": 97,
   "id": "aa46eac4-6009-4489-bc6e-ed18b2db7dff",
   "metadata": {
    "height": 30
   },
   "outputs": [
    {
     "data": {
      "text/plain": [
       "'carbon-course-bucket-bqpwcsf9'"
      ]
     },
     "execution_count": 97,
     "metadata": {},
     "output_type": "execute_result"
    }
   ],
   "source": [
    "bucket_name"
   ]
  },
  {
   "cell_type": "code",
   "execution_count": 98,
   "id": "b9377f73-662c-45fb-ada9-0b6152b7fb40",
   "metadata": {
    "height": 30
   },
   "outputs": [],
   "source": [
    "bucket = storage_client.bucket(bucket_name)"
   ]
  },
  {
   "cell_type": "code",
   "execution_count": 99,
   "id": "424eb498-ecc1-43d7-8e2d-812bf272ac73",
   "metadata": {
    "height": 30
   },
   "outputs": [],
   "source": [
    "bucket.create(location=REGION)"
   ]
  },
  {
   "cell_type": "code",
   "execution_count": 100,
   "id": "67cc2bb0-f678-4c5d-bf75-1b57911397cd",
   "metadata": {
    "height": 149
   },
   "outputs": [],
   "source": [
    "# Create the CustomTrainingJob\n",
    "job = aiplatform.CustomTrainingJob(\n",
    "    display_name='dlai-course-example',\n",
    "    script_path='task.py',\n",
    "    container_uri='us-docker.pkg.dev/vertex-ai/training/tf-cpu.2-14.py310:latest',\n",
    "    staging_bucket=f'gs://{bucket_name}',\n",
    "    location=REGION,\n",
    ")"
   ]
  },
  {
   "cell_type": "code",
   "execution_count": 101,
   "id": "1cc56b5d-4108-4592-a580-bc0e587f0ce7",
   "metadata": {
    "height": 30
   },
   "outputs": [
    {
     "name": "stdout",
     "output_type": "stream",
     "text": [
      "Training script copied to:\n",
      "gs://carbon-course-bucket-bqpwcsf9/aiplatform-2024-07-18-06-41-39.500-aiplatform_custom_trainer_script-0.1.tar.gz.\n",
      "Training Output directory:\n",
      "gs://carbon-course-bucket-bqpwcsf9/aiplatform-custom-training-2024-07-18-06-41-39.500\n",
      "View Training:\n",
      "https://console.cloud.google.com/ai/platform/locations/us-central1/training/3727316689851777024?project=362161713137\n",
      "View backing custom job:\n",
      "https://console.cloud.google.com/ai/platform/locations/us-central1/training/1619438550195896320?project=362161713137\n",
      "CustomTrainingJob projects/362161713137/locations/us-central1/trainingPipelines/3727316689851777024 current state:\n",
      "PipelineState.PIPELINE_STATE_RUNNING\n",
      "CustomTrainingJob projects/362161713137/locations/us-central1/trainingPipelines/3727316689851777024 current state:\n",
      "PipelineState.PIPELINE_STATE_RUNNING\n",
      "CustomTrainingJob projects/362161713137/locations/us-central1/trainingPipelines/3727316689851777024 current state:\n",
      "PipelineState.PIPELINE_STATE_RUNNING\n",
      "CustomTrainingJob projects/362161713137/locations/us-central1/trainingPipelines/3727316689851777024 current state:\n",
      "PipelineState.PIPELINE_STATE_RUNNING\n",
      "CustomTrainingJob projects/362161713137/locations/us-central1/trainingPipelines/3727316689851777024 current state:\n",
      "PipelineState.PIPELINE_STATE_RUNNING\n",
      "CustomTrainingJob run completed. Resource name: projects/362161713137/locations/us-central1/trainingPipelines/3727316689851777024 is not configured to upload a Model. Create the Training Pipeline with model_serving_container_image_uri and model_display_name passed in. Ensure that your training script saves to model to os.environ['AIP_MODEL_DIR']\n"
     ]
    }
   ],
   "source": [
    "model = job.run()"
   ]
  },
  {
   "cell_type": "code",
   "execution_count": 107,
   "id": "4d65abae-b35b-4818-853a-4c68a44587f8",
   "metadata": {
    "height": 47
   },
   "outputs": [],
   "source": [
    "# Delete the bucket to clean up resources\n",
    "bucket.delete(force=True)"
   ]
  }
 ],
 "metadata": {
  "kernelspec": {
   "display_name": "Python 3 (ipykernel)",
   "language": "python",
   "name": "python3"
  },
  "language_info": {
   "codemirror_mode": {
    "name": "ipython",
    "version": 3
   },
   "file_extension": ".py",
   "mimetype": "text/x-python",
   "name": "python",
   "nbconvert_exporter": "python",
   "pygments_lexer": "ipython3",
   "version": "3.10.14"
  }
 },
 "nbformat": 4,
 "nbformat_minor": 5
}
